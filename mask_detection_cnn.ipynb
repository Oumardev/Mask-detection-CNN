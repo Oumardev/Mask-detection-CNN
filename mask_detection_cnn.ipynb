{
 "cells": [
  {
   "cell_type": "code",
   "execution_count": 16,
   "id": "b4a2e1b5",
   "metadata": {},
   "outputs": [],
   "source": [
    "import cv2\n",
    "import numpy as np\n",
    "from PIL import Image \n",
    "import tensorflow as tf\n",
    "import random\n",
    "import matplotlib.pyplot as plt \n",
    "from sklearn.preprocessing import StandardScaler\n",
    "from sklearn.utils import shuffle\n",
    "from sklearn.model_selection import train_test_split"
   ]
  },
  {
   "cell_type": "code",
   "execution_count": 25,
   "id": "5366d66a",
   "metadata": {},
   "outputs": [],
   "source": [
    "def generate_img1(images):\n",
    "    r = np.arange(0,256)\n",
    "    c = 255/(np.log(1 + 255))\n",
    "    y = c*np.log(1+r)\n",
    "\n",
    "    log_image = c*np.log(images+1)\n",
    "    log_image = np.array(log_image, dtype=np.uint8)\n",
    "    \n",
    "    return log_image"
   ]
  },
  {
   "cell_type": "code",
   "execution_count": 26,
   "id": "c40fc010",
   "metadata": {},
   "outputs": [],
   "source": [
    "def generate_img2(images):\n",
    "    r = np.arange(0,256)\n",
    "    c = 255/(np.log(1 + 255))\n",
    "  \n",
    "    log_image = np.exp(images**1/c)-1\n",
    "    log_image = np.array(log_image, dtype=np.uint8)\n",
    "    \n",
    "    return log_image"
   ]
  },
  {
   "cell_type": "code",
   "execution_count": 27,
   "id": "508b393c",
   "metadata": {},
   "outputs": [],
   "source": [
    "def img_preprocessing(image):\n",
    "    image_2 = cv2.blur(image,(3,3))\n",
    "    image_3 = cv2.GaussianBlur(image,(5,5),10)\n",
    "    \n",
    "    (h, w) = image.shape[:2]\n",
    "    (cX, cY) = (w // 2, h // 2)\n",
    "    # faire pivoter l'image de 45 dégrées\n",
    "    M = cv2.getRotationMatrix2D((cX, cY), 45, 1.0)\n",
    "    image_4 = cv2.warpAffine(image, M, (w, h))\n",
    "    \n",
    "    (h, w) = image.shape[:2]\n",
    "    (cX, cY) = (w // 2, h // 2)\n",
    "    # faire pivoter l'image de -90 dégrées\n",
    "    M = cv2.getRotationMatrix2D((cX, cY), -90, 1.0)\n",
    "    image_5 = cv2.warpAffine(image, M, (w, h))\n",
    "    \n",
    "    image_6 = generate_img1(image)\n",
    "    image_7 = generate_img2(image)\n",
    "    \n",
    "    return image_2, image_3, image_4, image_5, image_6, image_7"
   ]
  },
  {
   "cell_type": "code",
   "execution_count": 6,
   "id": "912e72cd",
   "metadata": {},
   "outputs": [],
   "source": [
    "#définition\n",
    "#- with mask : 1\n",
    "#- without mask : 0\n",
    "\n",
    "##- mask weared incorrect : 2\n",
    "label_names = ['Sans masque','Avec masque']"
   ]
  },
  {
   "cell_type": "code",
   "execution_count": 23,
   "id": "3b2eae09",
   "metadata": {
    "scrolled": true
   },
   "outputs": [
    {
     "data": {
      "text/plain": [
       "<matplotlib.image.AxesImage at 0x1c72cc7abf0>"
      ]
     },
     "execution_count": 23,
     "metadata": {},
     "output_type": "execute_result"
    },
    {
     "data": {
      "image/png": "[encoded data removed]",
      "text/plain": [
       "<Figure size 432x288 with 1 Axes>"
      ]
     },
     "metadata": {
      "needs_background": "light"
     },
     "output_type": "display_data"
    }
   ],
   "source": [
    "plt.imshow(images[19])"
   ]
  },
  {
   "cell_type": "code",
   "execution_count": null,
   "id": "e6f5a018",
   "metadata": {},
   "outputs": [],
   "source": []
  },
  {
   "cell_type": "code",
   "execution_count": 31,
   "id": "7934c852",
   "metadata": {},
   "outputs": [],
   "source": [
    "def getDataSet():\n",
    "\n",
    "    \n",
    "    for idx in range(1,3001):\n",
    "        \n",
    "        img_name = idx+'.png'\n",
    "\n",
    "        im = Image.open('Dataset/with_mask/'+img_name)\n",
    "        imarray = np.array(im)\n",
    "        image = cv2.cvtColor(imarray, cv2.COLOR_BGR2GRAY)\n",
    "        image = cv2.resize(image,(64,64))\n",
    "        image_2, image_3, image_4, image_5, image_6, image_7 = img_preprocessing(image)\n",
    "        \n",
    "        images.append(image)\n",
    "        images.append(image_2)\n",
    "        images.append(image_3)\n",
    "        images.append(image_4)\n",
    "        images.append(image_5)\n",
    "        images.append(image_6)\n",
    "        images.append(image_7)\n",
    "        \n",
    "        targets.append(1)\n",
    "        targets.append(1)\n",
    "        targets.append(1)\n",
    "        targets.append(1)\n",
    "        targets.append(1)\n",
    "        targets.append(1)\n",
    "        targets.append(1)\n",
    "        \n",
    "        if int(idx) < 2295 :\n",
    "            im = Image.open('Dataset/without_mask/'+img_name)\n",
    "            imarray = np.array(im)\n",
    "            image = cv2.cvtColor(imarray, cv2.COLOR_BGR2GRAY)\n",
    "            image = cv2.resize(image,(64,64))\n",
    "            image_2, image_3, image_4, image_5, image_6, image_7 = img_preprocessing(image)\n",
    "        \n",
    "            images.append(image)\n",
    "            images.append(image_2)\n",
    "            images.append(image_3)\n",
    "            images.append(image_4)\n",
    "            images.append(image_5)\n",
    "            images.append(image_6)\n",
    "            images.append(image_7)\n",
    "\n",
    "            targets.append(0)\n",
    "            targets.append(0)\n",
    "            targets.append(0)\n",
    "            targets.append(0)\n",
    "            targets.append(0)\n",
    "            targets.append(0)\n",
    "            targets.append(0)\n",
    "            \n",
    "    \n",
    "    images = np.array(images)\n",
    "    targets = np.array(targets)\n",
    "    images, targets = shuffle(images, targets)\n",
    "    \n",
    "    print('images shape: ', images.shape)\n",
    "    print('targets shape: ', targets.shape)\n",
    "            \n",
    "    return images, targets"
   ]
  },
  {
   "cell_type": "code",
   "execution_count": 32,
   "id": "7bc6e7a4",
   "metadata": {},
   "outputs": [
    {
     "name": "stderr",
     "output_type": "stream",
     "text": [
      "C:\\Users\\toshiba\\AppData\\Local\\Temp\\ipykernel_1360\\2990874806.py:6: RuntimeWarning: divide by zero encountered in log\n",
      "  log_image = c*np.log(images+1)\n"
     ]
    },
    {
     "name": "stdout",
     "output_type": "stream",
     "text": [
      "images shape:  (37058, 64, 64)\n",
      "targets shape:  (37058,)\n"
     ]
    }
   ],
   "source": [
    "images, targets = getDataSet()"
   ]
  },
  {
   "cell_type": "code",
   "execution_count": 40,
   "id": "afb046c8",
   "metadata": {},
   "outputs": [
    {
     "name": "stdout",
     "output_type": "stream",
     "text": [
      "Sans masque\n"
     ]
    },
    {
     "data": {
      "image/png": "[encoded data removed]",
      "text/plain": [
       "<Figure size 432x288 with 1 Axes>"
      ]
     },
     "metadata": {
      "needs_background": "light"
     },
     "output_type": "display_data"
    }
   ],
   "source": [
    "print(label_names[targets[100]])\n",
    "plt.imshow(images[100],cmap='gray')\n",
    "plt.show()"
   ]
  },
  {
   "cell_type": "code",
   "execution_count": 9,
   "id": "2976675a",
   "metadata": {},
   "outputs": [
    {
     "name": "stdout",
     "output_type": "stream",
     "text": [
      "(37058, 4096)\n",
      "(37058,)\n"
     ]
    }
   ],
   "source": [
    "images = images.reshape(-1,4096) #flattern\n",
    "images = images.astype(float)\n",
    "\n",
    "scaler = StandardScaler()\n",
    "images = scaler.fit_transform(images)\n",
    "\n",
    "# découpage jeu entrainement && test\n",
    "images_train, images_test, target_train, target_test = train_test_split(images,targets,test_size=0.2, random_state=0)\n",
    "\n",
    "#show dimension\n",
    "print(images.shape)\n",
    "print(targets.shape)"
   ]
  },
  {
   "cell_type": "code",
   "execution_count": 10,
   "id": "17720aad",
   "metadata": {},
   "outputs": [
    {
     "name": "stdout",
     "output_type": "stream",
     "text": [
      "Images train:  (29646, 64, 64, 1)\n",
      "Images test:  (7412, 64, 64, 1)\n"
     ]
    }
   ],
   "source": [
    "images_train = images_train.reshape(-1, 64, 64, 1)\n",
    "images_test = images_test.reshape(-1, 64, 64, 1)\n",
    "\n",
    "print('Images train: ',images_train.shape)\n",
    "print('Images test: ',images_test.shape)"
   ]
  },
  {
   "cell_type": "code",
   "execution_count": 11,
   "id": "028068ac",
   "metadata": {},
   "outputs": [
    {
     "name": "stdout",
     "output_type": "stream",
     "text": [
      "(1, 4096)\n",
      "[[0.49753046]]\n"
     ]
    }
   ],
   "source": [
    "print(images[0:1].shape)\n",
    "#Create Model\n",
    "model = tf.keras.models.Sequential()\n",
    "\n",
    "# CONVOLUTION\n",
    "model.add(tf.keras.layers.Convolution2D(filters=32,kernel_size=3,strides=1,input_shape=(64,64,1),activation=\"relu\"))\n",
    "model.add(tf.keras.layers.MaxPooling2D(pool_size=(2,2),strides=2))\n",
    "\n",
    "model.add(tf.keras.layers.Dropout(0.3))\n",
    "model.add(tf.keras.layers.Convolution2D(filters=64,kernel_size=3,strides=1,input_shape=(64,64,1),activation=\"relu\"))\n",
    "model.add(tf.keras.layers.MaxPooling2D(pool_size=(2,2),strides=2))\n",
    "model.add(tf.keras.layers.Dropout(0.5))\n",
    "model.add(tf.keras.layers.Convolution2D(filters=128,kernel_size=3,strides=1,input_shape=(64,64,1),activation=\"relu\"))\n",
    "model.add(tf.keras.layers.MaxPooling2D(pool_size=(2,2),strides=2))\n",
    "model.add(tf.keras.layers.Dropout(0.3))\n",
    "\n",
    "# FLATTERN\n",
    "model.add(tf.keras.layers.Flatten())\n",
    "\n",
    "# DENSE LAYERS\n",
    "model.add(tf.keras.layers.Dense(128,activation=\"relu\"))\n",
    "model.add(tf.keras.layers.Dense(84,activation=\"relu\"))\n",
    "model.add(tf.keras.layers.Dense(1,activation=\"sigmoid\"))\n",
    "\n",
    "model_output = model.predict(images_train[0:1])\n",
    "print(model_output)"
   ]
  },
  {
   "cell_type": "code",
   "execution_count": 12,
   "id": "6e9d8931",
   "metadata": {},
   "outputs": [
    {
     "name": "stdout",
     "output_type": "stream",
     "text": [
      "Model: \"sequential\"\n",
      "_________________________________________________________________\n",
      " Layer (type)                Output Shape              Param #   \n",
      "=================================================================\n",
      " conv2d (Conv2D)             (None, 62, 62, 32)        320       \n",
      "                                                                 \n",
      " max_pooling2d (MaxPooling2D  (None, 31, 31, 32)       0         \n",
      " )                                                               \n",
      "                                                                 \n",
      " dropout (Dropout)           (None, 31, 31, 32)        0         \n",
      "                                                                 \n",
      " conv2d_1 (Conv2D)           (None, 29, 29, 64)        18496     \n",
      "                                                                 \n",
      " max_pooling2d_1 (MaxPooling  (None, 14, 14, 64)       0         \n",
      " 2D)                                                             \n",
      "                                                                 \n",
      " dropout_1 (Dropout)         (None, 14, 14, 64)        0         \n",
      "                                                                 \n",
      " conv2d_2 (Conv2D)           (None, 12, 12, 128)       73856     \n",
      "                                                                 \n",
      " max_pooling2d_2 (MaxPooling  (None, 6, 6, 128)        0         \n",
      " 2D)                                                             \n",
      "                                                                 \n",
      " dropout_2 (Dropout)         (None, 6, 6, 128)         0         \n",
      "                                                                 \n",
      " flatten (Flatten)           (None, 4608)              0         \n",
      "                                                                 \n",
      " dense (Dense)               (None, 128)               589952    \n",
      "                                                                 \n",
      " dense_1 (Dense)             (None, 84)                10836     \n",
      "                                                                 \n",
      " dense_2 (Dense)             (None, 1)                 85        \n",
      "                                                                 \n",
      "=================================================================\n",
      "Total params: 693,545\n",
      "Trainable params: 693,545\n",
      "Non-trainable params: 0\n",
      "_________________________________________________________________\n"
     ]
    }
   ],
   "source": [
    "#Model summary\n",
    "model.summary()"
   ]
  },
  {
   "cell_type": "code",
   "execution_count": 13,
   "id": "a7d3a70c",
   "metadata": {},
   "outputs": [],
   "source": [
    "#Compile the model\n",
    "#USpr^cA37l1qhZ6q#rZz\n",
    "model.compile(\n",
    "    loss=\"binary_crossentropy\",\n",
    "    optimizer=\"adam\",\n",
    "    metrics=[\"accuracy\"]\n",
    ")"
   ]
  },
  {
   "cell_type": "code",
   "execution_count": 14,
   "id": "e409e27f",
   "metadata": {},
   "outputs": [
    {
     "name": "stdout",
     "output_type": "stream",
     "text": [
      "Epoch 1/10\n",
      "649/649 [==============================] - 171s 263ms/step - loss: 0.3784 - accuracy: 0.8197 - val_loss: 0.1914 - val_accuracy: 0.9246\n",
      "Epoch 2/10\n",
      "649/649 [==============================] - 215s 332ms/step - loss: 0.1766 - accuracy: 0.9310 - val_loss: 0.1473 - val_accuracy: 0.9483\n",
      "Epoch 3/10\n",
      "649/649 [==============================] - 173s 267ms/step - loss: 0.1274 - accuracy: 0.9512 - val_loss: 0.1080 - val_accuracy: 0.9602\n",
      "Epoch 4/10\n",
      "649/649 [==============================] - 165s 254ms/step - loss: 0.1108 - accuracy: 0.9557 - val_loss: 0.0991 - val_accuracy: 0.9618\n",
      "Epoch 5/10\n",
      "649/649 [==============================] - 152s 234ms/step - loss: 0.0996 - accuracy: 0.9617 - val_loss: 0.0955 - val_accuracy: 0.9629\n",
      "Epoch 6/10\n",
      "649/649 [==============================] - 140s 215ms/step - loss: 0.0843 - accuracy: 0.9662 - val_loss: 0.0667 - val_accuracy: 0.9771\n",
      "Epoch 7/10\n",
      "649/649 [==============================] - 154s 237ms/step - loss: 0.0762 - accuracy: 0.9701 - val_loss: 0.0766 - val_accuracy: 0.9755\n",
      "Epoch 8/10\n",
      "649/649 [==============================] - 153s 235ms/step - loss: 0.0712 - accuracy: 0.9727 - val_loss: 0.0756 - val_accuracy: 0.9709\n",
      "Epoch 9/10\n",
      "649/649 [==============================] - 138s 212ms/step - loss: 0.0626 - accuracy: 0.9757 - val_loss: 0.0766 - val_accuracy: 0.9690\n",
      "Epoch 10/10\n",
      "649/649 [==============================] - 141s 218ms/step - loss: 0.0576 - accuracy: 0.9765 - val_loss: 0.0725 - val_accuracy: 0.9722\n"
     ]
    }
   ],
   "source": [
    "#train model\n",
    "history = model.fit(images_train,target_train,epochs=10,validation_split=0.3)"
   ]
  },
  {
   "cell_type": "code",
   "execution_count": 15,
   "id": "6c5b9219",
   "metadata": {},
   "outputs": [
    {
     "data": {
      "image/png": "[encoded data removed]",
      "text/plain": [
       "<Figure size 432x288 with 1 Axes>"
      ]
     },
     "metadata": {
      "needs_background": "light"
     },
     "output_type": "display_data"
    },
    {
     "data": {
      "image/png": "[encoded data removed]",
      "text/plain": [
       "<Figure size 432x288 with 1 Axes>"
      ]
     },
     "metadata": {
      "needs_background": "light"
     },
     "output_type": "display_data"
    }
   ],
   "source": [
    "loss_curve = history.history[\"loss\"]\n",
    "val_loss_curve = history.history[\"val_loss\"]\n",
    "\n",
    "acc_curve = history.history[\"accuracy\"]\n",
    "val_acc_curve = history.history[\"val_accuracy\"]\n",
    "\n",
    "plt.plot(loss_curve,label=\"train_loss\")\n",
    "plt.plot(val_loss_curve,label=\"val_loss\")\n",
    "plt.legend()\n",
    "plt.title(\"Loss\")\n",
    "plt.show()\n",
    "\n",
    "plt.plot(acc_curve,label=\"train_acc\")\n",
    "plt.plot(val_acc_curve,label=\"val_acc\")\n",
    "plt.title(\"Accuracy\")\n",
    "plt.show()"
   ]
  },
  {
   "cell_type": "code",
   "execution_count": 16,
   "id": "363ab656",
   "metadata": {},
   "outputs": [],
   "source": [
    "#model.save('mask_detection_cnn2.h5') #firstname : catdog_convolution_nn"
   ]
  },
  {
   "cell_type": "code",
   "execution_count": 17,
   "id": "5324706a",
   "metadata": {},
   "outputs": [],
   "source": [
    "# charger le model sauvegardé\n",
    "loaded_model = tf.keras.models.load_model('mask_detection_cnn2.h5')\n",
    "#loss, acc = loaded_model.evaluate(images_test, target_test)\n",
    "#print(\"Loss: \",loss)\n",
    "#print(\"Acc: \",acc)"
   ]
  },
  {
   "cell_type": "markdown",
   "id": "566a8847",
   "metadata": {},
   "source": [
    "### Déploiement du modele"
   ]
  },
  {
   "cell_type": "code",
   "execution_count": 18,
   "id": "624e0d32",
   "metadata": {},
   "outputs": [],
   "source": [
    "face_classifier = cv2.CascadeClassifier('haarcascade_frontalface_default.xml')"
   ]
  },
  {
   "cell_type": "code",
   "execution_count": 19,
   "id": "e7caca1d",
   "metadata": {},
   "outputs": [],
   "source": [
    "from time import sleep\n",
    "from keras.preprocessing.image import img_to_array"
   ]
  },
  {
   "cell_type": "code",
   "execution_count": 22,
   "id": "96fc32b8",
   "metadata": {},
   "outputs": [],
   "source": [
    "cap = cv2.VideoCapture(0)\n",
    "\n",
    "while True:\n",
    "    _, frame = cap.read()\n",
    "    labels = []\n",
    "    gray = cv2.cvtColor(frame,cv2.COLOR_BGR2GRAY)\n",
    "    faces = face_classifier.detectMultiScale(gray)\n",
    "\n",
    "    for (x,y,w,h) in faces:\n",
    "        cv2.rectangle(frame,(x,y),(x+w,y+h),(0,255,255),2)\n",
    "        roi_gray = gray[y:y+h,x:x+w]\n",
    "        roi_gray = cv2.resize(roi_gray,(64,64),interpolation=cv2.INTER_AREA)\n",
    "\n",
    "\n",
    "        if np.sum([roi_gray])!=0:\n",
    "            roi = roi_gray.astype('float')/255.0\n",
    "            roi = img_to_array(roi)\n",
    "            roi = np.expand_dims(roi,axis=0)\n",
    "            \n",
    "            prediction = loaded_model.predict(roi)[0][0]\n",
    "            label=label_names[round(prediction)]\n",
    "            label = label + f'{round(prediction, 3)}'\n",
    "            #label=label_names[prediction.argmax()]\n",
    "            label_position = (x,y)\n",
    "            cv2.putText(frame,label,label_position,cv2.FONT_HERSHEY_SIMPLEX,1,(0,255,0),2)\n",
    "        else:\n",
    "            cv2.putText(frame,'No Faces',(30,80),cv2.FONT_HERSHEY_SIMPLEX,1,(0,255,0),2)\n",
    "    cv2.imshow('Detecteur de masque',frame)\n",
    "    if cv2.waitKey(1) & 0xFF == ord('q'):\n",
    "        break\n",
    "\n",
    "cap.release()\n",
    "cv2.destroyAllWindows()"
   ]
  },
  {
   "cell_type": "code",
   "execution_count": 10,
   "id": "7d422db7",
   "metadata": {},
   "outputs": [],
   "source": [
    "a = 0.223333"
   ]
  },
  {
   "cell_type": "code",
   "execution_count": null,
   "id": "80a2580d",
   "metadata": {},
   "outputs": [],
   "source": []
  }
 ],
 "metadata": {
  "kernelspec": {
   "display_name": "Python 3 (ipykernel)",
   "language": "python",
   "name": "python3"
  },
  "language_info": {
   "codemirror_mode": {
    "name": "ipython",
    "version": 3
   },
   "file_extension": ".py",
   "mimetype": "text/x-python",
   "name": "python",
   "nbconvert_exporter": "python",
   "pygments_lexer": "ipython3",
   "version": "3.10.2"
  }
 },
 "nbformat": 4,
 "nbformat_minor": 5
}
